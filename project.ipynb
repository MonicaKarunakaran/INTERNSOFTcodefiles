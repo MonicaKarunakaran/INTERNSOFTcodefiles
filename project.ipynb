{
 "cells": [
  {
   "cell_type": "code",
   "execution_count": 1,
   "id": "f3e9365d-6e2a-4d3f-b1e1-22dbaea768f5",
   "metadata": {},
   "outputs": [
    {
     "name": "stdout",
     "output_type": "stream",
     "text": [
      "Requirement already satisfied: SpeechRecognition in c:\\users\\monika\\anaconda3\\airobosoft\\lib\\site-packages (3.14.2)\n",
      "Requirement already satisfied: typing-extensions in c:\\users\\monika\\anaconda3\\airobosoft\\lib\\site-packages (from SpeechRecognition) (4.11.0)\n",
      "Note: you may need to restart the kernel to use updated packages.\n"
     ]
    }
   ],
   "source": [
    "pip install SpeechRecognition"
   ]
  },
  {
   "cell_type": "code",
   "execution_count": 2,
   "id": "3fe04c8d-c75f-4e81-9df3-d1a26add1cb2",
   "metadata": {},
   "outputs": [
    {
     "name": "stdout",
     "output_type": "stream",
     "text": [
      "Requirement already satisfied: wikipedia-api in c:\\users\\monika\\anaconda3\\airobosoft\\lib\\site-packages (0.8.1)\n",
      "Requirement already satisfied: requests in c:\\users\\monika\\anaconda3\\airobosoft\\lib\\site-packages (from wikipedia-api) (2.32.3)\n",
      "Requirement already satisfied: charset-normalizer<4,>=2 in c:\\users\\monika\\anaconda3\\airobosoft\\lib\\site-packages (from requests->wikipedia-api) (3.3.2)\n",
      "Requirement already satisfied: idna<4,>=2.5 in c:\\users\\monika\\anaconda3\\airobosoft\\lib\\site-packages (from requests->wikipedia-api) (3.7)\n",
      "Requirement already satisfied: urllib3<3,>=1.21.1 in c:\\users\\monika\\anaconda3\\airobosoft\\lib\\site-packages (from requests->wikipedia-api) (2.2.3)\n",
      "Requirement already satisfied: certifi>=2017.4.17 in c:\\users\\monika\\anaconda3\\airobosoft\\lib\\site-packages (from requests->wikipedia-api) (2024.8.30)\n",
      "Note: you may need to restart the kernel to use updated packages.\n"
     ]
    }
   ],
   "source": [
    "pip install wikipedia-api"
   ]
  },
  {
   "cell_type": "code",
   "execution_count": 3,
   "id": "17a9e12d-21cf-480a-9fab-f9dea6efd3f9",
   "metadata": {},
   "outputs": [
    {
     "name": "stdout",
     "output_type": "stream",
     "text": [
      "Requirement already satisfied: pyttsx3 in c:\\users\\monika\\anaconda3\\airobosoft\\lib\\site-packages (2.98)\n",
      "Requirement already satisfied: comtypes in c:\\users\\monika\\anaconda3\\airobosoft\\lib\\site-packages (from pyttsx3) (1.4.10)\n",
      "Requirement already satisfied: pypiwin32 in c:\\users\\monika\\anaconda3\\airobosoft\\lib\\site-packages (from pyttsx3) (223)\n",
      "Requirement already satisfied: pywin32 in c:\\users\\monika\\anaconda3\\airobosoft\\lib\\site-packages (from pyttsx3) (305.1)\n",
      "Note: you may need to restart the kernel to use updated packages.\n"
     ]
    }
   ],
   "source": [
    "pip install pyttsx3"
   ]
  },
  {
   "cell_type": "code",
   "execution_count": 4,
   "id": "5e2edf13-e843-42e1-a6bc-2e07e7dc4d41",
   "metadata": {},
   "outputs": [
    {
     "name": "stdout",
     "output_type": "stream",
     "text": [
      "Requirement already satisfied: wolframalpha in c:\\users\\monika\\anaconda3\\airobosoft\\lib\\site-packages (5.1.3)\n",
      "Requirement already satisfied: xmltodict in c:\\users\\monika\\anaconda3\\airobosoft\\lib\\site-packages (from wolframalpha) (0.14.2)\n",
      "Requirement already satisfied: more-itertools in c:\\users\\monika\\anaconda3\\airobosoft\\lib\\site-packages (from wolframalpha) (10.3.0)\n",
      "Requirement already satisfied: jaraco.context in c:\\users\\monika\\anaconda3\\airobosoft\\lib\\site-packages (from wolframalpha) (6.0.1)\n",
      "Requirement already satisfied: httpx in c:\\users\\monika\\anaconda3\\airobosoft\\lib\\site-packages (from wolframalpha) (0.27.0)\n",
      "Requirement already satisfied: multidict in c:\\users\\monika\\anaconda3\\airobosoft\\lib\\site-packages (from wolframalpha) (6.0.4)\n",
      "Requirement already satisfied: anyio in c:\\users\\monika\\anaconda3\\airobosoft\\lib\\site-packages (from httpx->wolframalpha) (4.2.0)\n",
      "Requirement already satisfied: certifi in c:\\users\\monika\\anaconda3\\airobosoft\\lib\\site-packages (from httpx->wolframalpha) (2024.8.30)\n",
      "Requirement already satisfied: httpcore==1.* in c:\\users\\monika\\anaconda3\\airobosoft\\lib\\site-packages (from httpx->wolframalpha) (1.0.2)\n",
      "Requirement already satisfied: idna in c:\\users\\monika\\anaconda3\\airobosoft\\lib\\site-packages (from httpx->wolframalpha) (3.7)\n",
      "Requirement already satisfied: sniffio in c:\\users\\monika\\anaconda3\\airobosoft\\lib\\site-packages (from httpx->wolframalpha) (1.3.0)\n",
      "Requirement already satisfied: h11<0.15,>=0.13 in c:\\users\\monika\\anaconda3\\airobosoft\\lib\\site-packages (from httpcore==1.*->httpx->wolframalpha) (0.14.0)\n",
      "Note: you may need to restart the kernel to use updated packages.\n"
     ]
    }
   ],
   "source": [
    "pip install wolframalpha"
   ]
  },
  {
   "cell_type": "code",
   "execution_count": 5,
   "id": "f7d87709-f4e9-4c84-98cd-d4e5dfbeb5c6",
   "metadata": {},
   "outputs": [
    {
     "name": "stdout",
     "output_type": "stream",
     "text": [
      "Requirement already satisfied: instaloader in c:\\users\\monika\\anaconda3\\airobosoft\\lib\\site-packages (4.14.1)\n",
      "Requirement already satisfied: requests>=2.25 in c:\\users\\monika\\anaconda3\\airobosoft\\lib\\site-packages (from instaloader) (2.32.3)\n",
      "Requirement already satisfied: charset-normalizer<4,>=2 in c:\\users\\monika\\anaconda3\\airobosoft\\lib\\site-packages (from requests>=2.25->instaloader) (3.3.2)\n",
      "Requirement already satisfied: idna<4,>=2.5 in c:\\users\\monika\\anaconda3\\airobosoft\\lib\\site-packages (from requests>=2.25->instaloader) (3.7)\n",
      "Requirement already satisfied: urllib3<3,>=1.21.1 in c:\\users\\monika\\anaconda3\\airobosoft\\lib\\site-packages (from requests>=2.25->instaloader) (2.2.3)\n",
      "Requirement already satisfied: certifi>=2017.4.17 in c:\\users\\monika\\anaconda3\\airobosoft\\lib\\site-packages (from requests>=2.25->instaloader) (2024.8.30)\n",
      "Note: you may need to restart the kernel to use updated packages.\n"
     ]
    }
   ],
   "source": [
    "pip install instaloader"
   ]
  },
  {
   "cell_type": "code",
   "execution_count": 6,
   "id": "bd8636dc-b0d7-44ed-ac33-35d509cdb498",
   "metadata": {},
   "outputs": [
    {
     "name": "stdout",
     "output_type": "stream",
     "text": [
      "Requirement already satisfied: wikipedia in c:\\users\\monika\\anaconda3\\airobosoft\\lib\\site-packages (1.4.0)\n",
      "Requirement already satisfied: beautifulsoup4 in c:\\users\\monika\\anaconda3\\airobosoft\\lib\\site-packages (from wikipedia) (4.12.3)\n",
      "Requirement already satisfied: requests<3.0.0,>=2.0.0 in c:\\users\\monika\\anaconda3\\airobosoft\\lib\\site-packages (from wikipedia) (2.32.3)\n",
      "Requirement already satisfied: charset-normalizer<4,>=2 in c:\\users\\monika\\anaconda3\\airobosoft\\lib\\site-packages (from requests<3.0.0,>=2.0.0->wikipedia) (3.3.2)\n",
      "Requirement already satisfied: idna<4,>=2.5 in c:\\users\\monika\\anaconda3\\airobosoft\\lib\\site-packages (from requests<3.0.0,>=2.0.0->wikipedia) (3.7)\n",
      "Requirement already satisfied: urllib3<3,>=1.21.1 in c:\\users\\monika\\anaconda3\\airobosoft\\lib\\site-packages (from requests<3.0.0,>=2.0.0->wikipedia) (2.2.3)\n",
      "Requirement already satisfied: certifi>=2017.4.17 in c:\\users\\monika\\anaconda3\\airobosoft\\lib\\site-packages (from requests<3.0.0,>=2.0.0->wikipedia) (2024.8.30)\n",
      "Requirement already satisfied: soupsieve>1.2 in c:\\users\\monika\\anaconda3\\airobosoft\\lib\\site-packages (from beautifulsoup4->wikipedia) (2.5)\n",
      "Note: you may need to restart the kernel to use updated packages.\n"
     ]
    }
   ],
   "source": [
    "pip install wikipedia"
   ]
  },
  {
   "cell_type": "code",
   "execution_count": 7,
   "id": "3d70a83b-ca47-4671-82a1-da65a2c6555a",
   "metadata": {},
   "outputs": [
    {
     "name": "stdout",
     "output_type": "stream",
     "text": [
      "Requirement already satisfied: pyaudio in c:\\users\\monika\\anaconda3\\airobosoft\\lib\\site-packages (0.2.14)\n",
      "Note: you may need to restart the kernel to use updated packages.\n"
     ]
    }
   ],
   "source": [
    "pip install pyaudio"
   ]
  },
  {
   "cell_type": "code",
   "execution_count": 8,
   "id": "b91bb66b-7eae-4063-bbef-43f1fbf825f1",
   "metadata": {},
   "outputs": [
    {
     "name": "stdout",
     "output_type": "stream",
     "text": [
      "Requirement already satisfied: nest_asyncio in c:\\users\\monika\\anaconda3\\airobosoft\\lib\\site-packages (1.6.0)\n",
      "Note: you may need to restart the kernel to use updated packages.\n"
     ]
    }
   ],
   "source": [
    "pip install nest_asyncio"
   ]
  },
  {
   "cell_type": "code",
   "execution_count": null,
   "id": "b4a2c201-a330-4df8-8293-18385e3af844",
   "metadata": {},
   "outputs": [],
   "source": []
  },
  {
   "cell_type": "code",
   "execution_count": 9,
   "id": "053afafd-800f-44ac-a9ce-a6206a757098",
   "metadata": {},
   "outputs": [],
   "source": [
    "import os\n",
    "import time\n",
    "import subprocess\n",
    "import json"
   ]
  },
  {
   "cell_type": "code",
   "execution_count": 10,
   "id": "51359b20-6254-4824-820f-64ab02ec8b2c",
   "metadata": {},
   "outputs": [],
   "source": [
    "import wolframalpha\n",
    "import requests\n",
    "import webbrowser\n",
    "import wikipedia\n",
    "import datetime"
   ]
  },
  {
   "cell_type": "code",
   "execution_count": 11,
   "id": "5709f450-58ff-40fe-bb1e-2d52b1196d09",
   "metadata": {},
   "outputs": [],
   "source": [
    "import speech_recognition as sr\n",
    "import pyttsx3"
   ]
  },
  {
   "cell_type": "code",
   "execution_count": 12,
   "id": "1eea59df-fbeb-4b73-97fe-baeaddb93a95",
   "metadata": {},
   "outputs": [],
   "source": [
    "import nest_asyncio\n",
    "nest_asyncio.apply() "
   ]
  },
  {
   "cell_type": "code",
   "execution_count": 13,
   "id": "e7672d36-9276-426b-ba10-e504e20ed767",
   "metadata": {},
   "outputs": [
    {
     "name": "stdout",
     "output_type": "stream",
     "text": [
      "LOADING YOUR AI PERSONAL ASSISTANT JARVIS\n"
     ]
    }
   ],
   "source": [
    "print('LOADING YOUR AI PERSONAL ASSISTANT JARVIS')"
   ]
  },
  {
   "cell_type": "code",
   "execution_count": 14,
   "id": "1dd0b25a-274f-4033-9204-0cfcf545d525",
   "metadata": {},
   "outputs": [],
   "source": [
    "engine = pyttsx3.init('sapi5')\n",
    "voices = engine.getProperty('voices')\n",
    "engine.setProperty('voice','voices[0].id')"
   ]
  },
  {
   "cell_type": "code",
   "execution_count": 15,
   "id": "2c27187b-ea7e-4847-88d6-332bd11fbb16",
   "metadata": {},
   "outputs": [],
   "source": [
    "def speak(text):\n",
    "    engine.say(text)\n",
    "    engine.runAndWait()"
   ]
  },
  {
   "cell_type": "code",
   "execution_count": 16,
   "id": "6822c591-a294-4ae0-9e6c-97b1f08f4c36",
   "metadata": {},
   "outputs": [],
   "source": [
    "def wishMe():\n",
    "    hour = datetime.datetime.now().hour\n",
    "    if hour >= 0 and hour < 12:\n",
    "        speak('hello, good morning Ms. Shwetha')\n",
    "        print('hello, good morning Ms. Shwetha')\n",
    "    elif hour >= 12 and hour <= 18:\n",
    "        speak('hello, good afternoon Ms. Shwetha')\n",
    "        print('hello, good afternoon Ms. Shwetha')\n",
    "    elif hour >= 17 and hour <= 20:\n",
    "        speak('hello, good evening Ms. Shwetha')\n",
    "        print('hello, good evening Ms. Shwetha')\n",
    "    else:\n",
    "        speak('Its already night time better go to sleep')\n",
    "        print('Its already night time better go to sleep')"
   ]
  },
  {
   "cell_type": "code",
   "execution_count": 17,
   "id": "b9c1dcce-af87-4ff3-9683-29c9b94901d2",
   "metadata": {},
   "outputs": [],
   "source": [
    "def takeCommand():\n",
    "    r = sr.Recognizer()\n",
    "    with sr.Microphone() as source:\n",
    "        print('I AM LISTENING')\n",
    "        audio = r.listen(source)\n",
    "\n",
    "        try:\n",
    "            statement = r.recognize_google(audio, language='en-in')\n",
    "            print(f\"user said:{statement}\\n\")\n",
    "            \n",
    "        except Exception as e:\n",
    "            speak('Pardon me, can u repeat that again')\n",
    "            return 'none'\n",
    "        return statement.lower()"
   ]
  },
  {
   "cell_type": "code",
   "execution_count": 18,
   "id": "391727b1-dce7-45ce-b81b-23c37bbbd9ac",
   "metadata": {},
   "outputs": [
    {
     "name": "stdout",
     "output_type": "stream",
     "text": [
      "Its already night time better go to sleep\n"
     ]
    }
   ],
   "source": [
    "speak(\"LOADING YOU PERSONAL A.I ASSISTANT JARVIS\")\n",
    "wishMe()"
   ]
  },
  {
   "cell_type": "code",
   "execution_count": 19,
   "id": "eab210e5-1c16-473a-877f-f11bb7cab687",
   "metadata": {},
   "outputs": [
    {
     "name": "stdout",
     "output_type": "stream",
     "text": [
      "I AM LISTENING\n",
      "user said:what is\n",
      "\n",
      "I AM LISTENING\n",
      "user said:the weather Chennai\n",
      "\n",
      "I AM LISTENING\n",
      "user said:today's weather\n",
      "\n",
      "The weather in today's weather is temperature | 29 °C\n",
      "conditions | few clouds\n",
      "relative humidity | 37% (dew point: 13 °C)\n",
      "wind speed | 2 m/s\n",
      "(25 minutes ago)\n",
      "(using weather station VERC: 341 km N and 600 meters above Bhubaneswar, Odisha, India)\n",
      "I AM LISTENING\n",
      "user said:who are you\n",
      "\n",
      "I AM LISTENING\n",
      "user said:ok bye\n",
      "\n",
      "Your personal AI assistant JARVIS is shutting down. Goodbye!\n"
     ]
    }
   ],
   "source": [
    "if __name__ == '__main__':\n",
    "    app_id = 'XWL824-WEGETVGX6R'\n",
    "    client = wolframalpha.Client(app_id)\n",
    "\n",
    "    while True:\n",
    "        speak('How can I help you?')\n",
    "        statement = takeCommand()\n",
    "\n",
    "        if statement == 'none':\n",
    "            continue\n",
    "\n",
    "        if 'good bye' in statement or 'ok bye' in statement or 'see you later' in statement:\n",
    "            speak('Your personal AI assistant JARVIS is shutting down. Goodbye!')\n",
    "            print('Your personal AI assistant JARVIS is shutting down. Goodbye!')\n",
    "            break\n",
    "\n",
    "        elif 'wikipedia' in statement:\n",
    "            speak('Searching Wikipedia...')\n",
    "            statement = statement.replace('wikipedia', '')\n",
    "            results = wikipedia.summary(statement, sentences=3)\n",
    "            speak('According to Wikipedia...')\n",
    "            print(results)\n",
    "            speak(results)\n",
    "\n",
    "        elif 'open youtube' in statement:\n",
    "            webbrowser.open_new_tab('https://www.youtube.com')\n",
    "            speak('YouTube is open for you.')\n",
    "            time.sleep(5)\n",
    "\n",
    "        elif 'open google' in statement:\n",
    "            webbrowser.open_new_tab('https://www.google.com')\n",
    "            speak('Google search is open for you.')\n",
    "            time.sleep(5)\n",
    "\n",
    "        elif 'open email' in statement:\n",
    "            webbrowser.open_new_tab('https://gmail.com')\n",
    "            speak('Your Gmail is open for you.')\n",
    "            time.sleep(5)\n",
    "\n",
    "        elif 'time' in statement:\n",
    "            strTime = datetime.datetime.now().strftime('%H:%M:%S')\n",
    "            speak(f'The time is {strTime}')\n",
    "\n",
    "        elif 'who are you' in statement or 'what can you do' in statement:\n",
    "            speak('I am JARVIS version 1.0, your personal assistant. I can open YouTube, Google Chrome, Gmail, and Stack Overflow, '\n",
    "                  'tell the time, search Wikipedia, predict the weather, fetch news headlines from Times of India, and answer computational and geographical questions.')\n",
    "\n",
    "        elif 'who made you' in statement or 'who created you' in statement or 'who discovered you' in statement:\n",
    "            speak('I was built by Iron Man.')\n",
    "            print('I was built by Iron Man.')\n",
    "\n",
    "        elif 'open stack overflow' in statement:\n",
    "            webbrowser.open_new_tab('https://stackoverflow.com')\n",
    "            time.sleep(5)\n",
    "\n",
    "        elif 'news' in statement:\n",
    "            webbrowser.open_new_tab('https://timesofindia.indiatimes.com/home/headlines')\n",
    "            speak('Here are some headlines for you from Times of India.')\n",
    "            time.sleep(7)\n",
    "\n",
    "        elif 'search' in statement:\n",
    "            statement = statement.replace('search', '')\n",
    "            webbrowser.open_new_tab(f\"https://www.google.com/search?q={statement}\")\n",
    "            time.sleep(5)\n",
    "\n",
    "        # Separate elif block for weather-related queries\n",
    "        elif 'weather' in statement:\n",
    "            speak(\"Which city's weather do you want to know?\")\n",
    "            city = takeCommand()\n",
    "\n",
    "            if city == 'none':\n",
    "                speak(\"I didn't catch that. Please try again.\")\n",
    "                continue\n",
    "\n",
    "            question = f\"weather in {city}\"\n",
    "            res = client.query(question)\n",
    "\n",
    "            try:\n",
    "                answer = next(res.results).text\n",
    "                speak(f\"The weather in {city} is {answer}\")\n",
    "                print(f\"The weather in {city} is {answer}\")\n",
    "            except StopIteration:\n",
    "                speak(\"I couldn't find the weather information.\")\n",
    "                print(\"No weather data found.\")\n",
    "\n",
    "        elif 'ask' in statement:\n",
    "            speak('I can answer computational and geographical questions. What do you want to ask?')\n",
    "            question = takeCommand()\n",
    "\n",
    "            res = client.query(question)\n",
    "            try:\n",
    "                answer = next(res.results).text\n",
    "                speak(answer)\n",
    "                print(answer)\n",
    "            except:\n",
    "                Stop"
   ]
  }
 ],
 "metadata": {
  "kernelspec": {
   "display_name": "Python 3 (ipykernel)",
   "language": "python",
   "name": "python3"
  },
  "language_info": {
   "codemirror_mode": {
    "name": "ipython",
    "version": 3
   },
   "file_extension": ".py",
   "mimetype": "text/x-python",
   "name": "python",
   "nbconvert_exporter": "python",
   "pygments_lexer": "ipython3",
   "version": "3.12.7"
  }
 },
 "nbformat": 4,
 "nbformat_minor": 5
}
